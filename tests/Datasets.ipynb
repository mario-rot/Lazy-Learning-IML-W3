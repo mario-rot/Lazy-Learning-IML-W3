{
 "cells": [
  {
   "cell_type": "markdown",
   "metadata": {},
   "source": [
    "# Datasets class testing "
   ]
  },
  {
   "cell_type": "code",
   "execution_count": 1,
   "metadata": {},
   "outputs": [],
   "source": [
    "%load_ext autoreload\n",
    "%autoreload 2"
   ]
  },
  {
   "cell_type": "code",
   "execution_count": 2,
   "metadata": {},
   "outputs": [],
   "source": [
    "import sys\n",
    "sys.path.append('../')\n",
    "from src.datapipeline import MLDataset\n",
    "from pathlib import Path"
   ]
  },
  {
   "cell_type": "code",
   "execution_count": 100,
   "metadata": {},
   "outputs": [],
   "source": [
    "data_path = Path('../data/folded_datasets/raw/cmc/')"
   ]
  },
  {
   "cell_type": "code",
   "execution_count": 101,
   "metadata": {},
   "outputs": [
    {
     "data": {
      "text/plain": [
       "10"
      ]
     },
     "execution_count": 101,
     "metadata": {},
     "output_type": "execute_result"
    }
   ],
   "source": [
    "ds = MLDataset(data_path)\n",
    "len(ds)\n",
    "# print(ds[0][0]['y_true'])\n",
    "# ['hAd', 'hEd', 'hId', 'hOd', 'hUd', 'hYd', 'had', 'hed', 'hid', 'hod', 'hud']"
   ]
  },
  {
   "cell_type": "code",
   "execution_count": 102,
   "metadata": {},
   "outputs": [],
   "source": [
    "TrainMatrix, TestMatrix = ds[5]"
   ]
  },
  {
   "cell_type": "code",
   "execution_count": 104,
   "metadata": {},
   "outputs": [
    {
     "name": "stdout",
     "output_type": "stream",
     "text": [
      "(1325, 25) (148, 25)\n",
      "(1326, 25) (147, 25)\n",
      "(1325, 25) (148, 25)\n",
      "(1328, 25) (145, 25)\n",
      "(1326, 25) (147, 25)\n",
      "(1326, 25) (147, 25)\n",
      "(1324, 25) (149, 25)\n",
      "(1326, 25) (147, 25)\n",
      "(1326, 25) (147, 25)\n",
      "(1325, 25) (148, 25)\n"
     ]
    }
   ],
   "source": [
    "for (TrainMatrix, TestMatrix) in ds:\n",
    "    print(TrainMatrix.shape, TestMatrix.shape)"
   ]
  },
  {
   "cell_type": "code",
   "execution_count": 17,
   "metadata": {},
   "outputs": [],
   "source": [
    "ds.save('iris_MLDataset_class','../data/folded_datasets/processed/vowel')"
   ]
  }
 ],
 "metadata": {
  "kernelspec": {
   "display_name": "Python 3.7.13 ('IML')",
   "language": "python",
   "name": "python3"
  },
  "language_info": {
   "codemirror_mode": {
    "name": "ipython",
    "version": 3
   },
   "file_extension": ".py",
   "mimetype": "text/x-python",
   "name": "python",
   "nbconvert_exporter": "python",
   "pygments_lexer": "ipython3",
   "version": "3.7.13"
  },
  "orig_nbformat": 4,
  "vscode": {
   "interpreter": {
    "hash": "7a6172ae74440419cc79b6f951b9c9563f77d3261d6617c771fd901e2fd7a5fa"
   }
  }
 },
 "nbformat": 4,
 "nbformat_minor": 2
}
