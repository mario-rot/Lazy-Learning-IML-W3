{
 "cells": [
  {
   "attachments": {},
   "cell_type": "markdown",
   "metadata": {},
   "source": [
    "# kNNAlgorithm class testing"
   ]
  },
  {
   "cell_type": "code",
   "execution_count": 15,
   "metadata": {},
   "outputs": [
    {
     "name": "stdout",
     "output_type": "stream",
     "text": [
      "The autoreload extension is already loaded. To reload it, use:\n",
      "  %reload_ext autoreload\n"
     ]
    }
   ],
   "source": [
    "%load_ext autoreload\n",
    "%autoreload 2"
   ]
  },
  {
   "cell_type": "code",
   "execution_count": 21,
   "metadata": {},
   "outputs": [],
   "source": [
    "import sys\n",
    "sys.path.append('../')\n",
    "from src.datapipeline import MLDataset\n",
    "from src.algorithms.kNNAlgorithm import kNNAlgorithm\n",
    "from pathlib import Path\n",
    "import itertools\n",
    "import numpy as np\n",
    "import pandas as pd\n",
    "from sklearn.datasets import load_iris\n",
    "from sklearn.model_selection import train_test_split"
   ]
  },
  {
   "cell_type": "code",
   "execution_count": 22,
   "metadata": {},
   "outputs": [],
   "source": [
    "data_path = Path('../data/folded_datasets/raw/vowel/')\n",
    "save_path = Path('../Results/Tables/vowel/')\n",
    "ds = MLDataset(data_path)"
   ]
  },
  {
   "cell_type": "code",
   "execution_count": 23,
   "metadata": {},
   "outputs": [],
   "source": [
    "params = {'k':[1,3,5,7],\n",
    "          'distance': ['euclidean', 'manhattan', 'cosine'],\n",
    "          'votes': ['majority', 'sheppard', 'idw'],\n",
    "          'weights': ['equal','correlation','information_gain']}\n",
    "keys, values = zip(*params.items())"
   ]
  },
  {
   "cell_type": "code",
   "execution_count": 24,
   "metadata": {},
   "outputs": [],
   "source": [
    "params_combs = [dict(zip(keys, v)) for v in itertools.product(*values)]\n",
    "results, fold_means = {},{}\n",
    "for n, comb in enumerate(params_combs[:2]):\n",
    "    fold_res = []\n",
    "    for fold, (TrainMatrix, TestMatrix) in enumerate(ds):\n",
    "        knnalg = kNNAlgorithm()\n",
    "        knnalg.fit(TrainMatrix, comb['weights'])\n",
    "        preds, time = knnalg.predict_test(TestMatrix.iloc[:,:-1], comb['k'], comb['distance'], comb['votes'], True)\n",
    "        acc, corr, incorr = knnalg.evaluate(TestMatrix['y_true'])\n",
    "        results[n*10+(fold)], fold_res  = [fold, *comb.values(), acc,corr,incorr,time], fold_res + [[acc,corr,incorr,time]]\n",
    "    fold_means[n] = np.array(fold_res).mean(0)\n",
    "results, fold_means = pd.DataFrame(results).T, pd.DataFrame(fold_means).T\n",
    "results.columns, fold_means.columns = ['fold', 'k', 'distance', 'votes', 'weighting', 'acc', 'corr', 'incorr', 'time'], ['acc', 'corr', 'incorr', 'time']\n",
    "results.to_csv(save_path.as_posix() + '/fold_res.csv'), fold_means.to_csv(save_path.as_posix() + '/fold_mean_res.csv')"
   ]
  },
  {
   "attachments": {},
   "cell_type": "markdown",
   "metadata": {},
   "source": [
    "## Testing one at a time case with iris"
   ]
  },
  {
   "cell_type": "code",
   "execution_count": 7,
   "metadata": {},
   "outputs": [],
   "source": [
    "def to_dataframe(y):\n",
    "    if not isinstance(y, pd.DataFrame):\n",
    "        return pd.DataFrame(y)\n",
    "        \n",
    "def iris_dataset():\n",
    "    x, y = load_iris(return_X_y=True, as_frame=True)\n",
    "    y = to_dataframe(y)\n",
    "    return x, y"
   ]
  },
  {
   "cell_type": "code",
   "execution_count": 11,
   "metadata": {},
   "outputs": [
    {
     "name": "stdout",
     "output_type": "stream",
     "text": [
      "Prediction for case 0 is correct: target    True\n",
      "Name: 58, dtype: bool\n",
      "Prediction for case 1 is correct: target    True\n",
      "Name: 134, dtype: bool\n",
      "Prediction for case 2 is correct: target    True\n",
      "Name: 147, dtype: bool\n",
      "Prediction for case 3 is correct: target    True\n",
      "Name: 69, dtype: bool\n",
      "Prediction for case 4 is correct: target    True\n",
      "Name: 107, dtype: bool\n",
      "Prediction for case 5 is correct: target    True\n",
      "Name: 42, dtype: bool\n",
      "Prediction for case 6 is correct: target    True\n",
      "Name: 38, dtype: bool\n",
      "Prediction for case 7 is correct: target    True\n",
      "Name: 7, dtype: bool\n",
      "Prediction for case 8 is correct: target    True\n",
      "Name: 132, dtype: bool\n",
      "Prediction for case 9 is correct: target    True\n",
      "Name: 75, dtype: bool\n",
      "Prediction for case 10 is correct: target    True\n",
      "Name: 14, dtype: bool\n",
      "Prediction for case 11 is correct: target    True\n",
      "Name: 116, dtype: bool\n",
      "Prediction for case 12 is correct: target    True\n",
      "Name: 51, dtype: bool\n",
      "Prediction for case 13 is correct: target    True\n",
      "Name: 77, dtype: bool\n",
      "Prediction for case 14 is correct: target    True\n",
      "Name: 28, dtype: bool\n"
     ]
    }
   ],
   "source": [
    "X,y = iris_dataset()\n",
    "X_train, X_test, y_train, y_test = train_test_split(X, y, test_size=0.1, random_state=42, stratify = y)\n",
    "TrainData = pd.concat([X_train, y_train], axis = 1)\n",
    "TrainData = TrainData.rename(columns={\"target\": \"y_true\"})\n",
    "\n",
    "knnalg = kNNAlgorithm()\n",
    "knnalg.fit(TrainData, 'equal')\n",
    "for i in range(len(X_test)):\n",
    "    print('Prediction for case {} is correct: {}'.format(i,knnalg.predict(X_test.iloc[i], 3, 'euclidean', 'majority')==y_test.iloc[i]))"
   ]
  },
  {
   "cell_type": "code",
   "execution_count": 14,
   "metadata": {},
   "outputs": [
    {
     "name": "stdout",
     "output_type": "stream",
     "text": [
      "([1, 2, 2, 1, 2, 0, 0, 0, 2, 1, 0, 2, 1, 1, 0], 0.09569478034973145)\n"
     ]
    },
    {
     "data": {
      "text/plain": [
       "(1.0, 15, 0)"
      ]
     },
     "execution_count": 14,
     "metadata": {},
     "output_type": "execute_result"
    }
   ],
   "source": [
    "# Using the method to predict all the test set\n",
    "print(knnalg.predict_test(X_test, 3, 'euclidean', 'majority', True))\n",
    "knnalg.evaluate(y_test['target'])"
   ]
  }
 ],
 "metadata": {
  "kernelspec": {
   "display_name": "IML",
   "language": "python",
   "name": "python3"
  },
  "language_info": {
   "codemirror_mode": {
    "name": "ipython",
    "version": 3
   },
   "file_extension": ".py",
   "mimetype": "text/x-python",
   "name": "python",
   "nbconvert_exporter": "python",
   "pygments_lexer": "ipython3",
   "version": "3.7.13"
  },
  "orig_nbformat": 4,
  "vscode": {
   "interpreter": {
    "hash": "7a6172ae74440419cc79b6f951b9c9563f77d3261d6617c771fd901e2fd7a5fa"
   }
  }
 },
 "nbformat": 4,
 "nbformat_minor": 2
}
